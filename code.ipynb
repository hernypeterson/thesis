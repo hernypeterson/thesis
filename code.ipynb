{
 "cells": [
  {
   "attachments": {},
   "cell_type": "markdown",
   "metadata": {},
   "source": [
    "# Thesis Data Analysis"
   ]
  },
  {
   "cell_type": "code",
   "execution_count": 45,
   "metadata": {},
   "outputs": [],
   "source": [
    "# read .csv\n",
    "from svglib.svglib import svg2rlg\n",
    "\n",
    "# computation & data structures\n",
    "import numpy as np\n",
    "import sympy as sp\n",
    "from scipy.optimize import curve_fit, least_squares\n",
    "from numpy import radians as rad\n",
    "from numpy import degrees as deg\n",
    "from numpy import sin, cos, tan, arcsin, arccos, arctan, arctan2, mean\n",
    "import itertools\n",
    "import pandas as pd\n",
    "from typing import Callable, Tuple\n",
    "import glob\n",
    "\n",
    "# plots\n",
    "import matplotlib.pyplot as plt\n",
    "import seaborn as sns\n",
    "from reportlab.graphics import renderPDF\n",
    "import os\n",
    "import shutil\n",
    "from dataclasses import dataclass, field\n",
    "\n",
    "import time\n",
    "from matplotlib.animation import FuncAnimation\n",
    "from IPython import display\n",
    "from collections.abc import Iterable"
   ]
  },
  {
   "cell_type": "code",
   "execution_count": 46,
   "metadata": {},
   "outputs": [],
   "source": [
    "# constants in SI units\n",
    "SHEAR_MODULUS = 2.4e10\n",
    "ROCK_DENSITY = 2700\n",
    "MAGMA_DENSITY = 2700\n",
    "MARS_GRAVITY = 3.72\n",
    "MARS_EQ_RADIUS = 3_396_200\n",
    "\n",
    "PLOT_WIDTH = 200_000"
   ]
  },
  {
   "attachments": {},
   "cell_type": "markdown",
   "metadata": {},
   "source": [
    "## Map Data\n",
    "Define functions for computing tilt, etc. for a given center-sample pair. Each point has an ID and coordinates (lat, lon). The sample point also has $\\theta_1, \\theta_2, \\varphi_2$ but everything else is calculated."
   ]
  },
  {
   "cell_type": "code",
   "execution_count": 47,
   "metadata": {},
   "outputs": [],
   "source": [
    "def dist(lat_sample, lon_sample, lat_center, lon_center):\n",
    "    '''distance between pts 1 and 2'''\n",
    "    lat1 = rad(lat_sample)\n",
    "    lon1 = rad(lon_sample)\n",
    "    lat2 = rad(lat_center)\n",
    "    lon2 = rad(lon_center)\n",
    "    rads = arccos(\n",
    "        cos(lat1) * cos(lat2)\n",
    "        * cos(lon2 - lon1)\n",
    "        + sin(lat1) * sin(lat2)\n",
    "    )\n",
    "    return rads * MARS_EQ_RADIUS\n",
    "\n",
    "\n",
    "def bearing(lat_sample, lon_sample, lat_center, lon_center):\n",
    "    '''angle from pt 1 AWAY from pt 2'''\n",
    "    lat1 = rad(lat_sample)\n",
    "    lon1 = rad(lon_sample)\n",
    "    lat2 = rad(lat_center)\n",
    "    lon2 = rad(lon_center)\n",
    "    y = sin(lon2 - lon1) * cos(lat2)\n",
    "    x = cos(lat1) * sin(lat2) \\\n",
    "        - sin(lat1) * cos(lat2) * cos(lon2 - lon1)\n",
    "    return (180 + deg(arctan2(y, x))) % 360\n",
    "\n",
    "\n",
    "def beta(az, bearing):\n",
    "    '''angular difference in [-180, +180]'''\n",
    "    return ((az - bearing + 180) % 360) - 180\n",
    "\n",
    "\n",
    "def sl1(beta1, beta2, sl2):\n",
    "    beta1 = rad(beta1)\n",
    "    beta2 = rad(beta2)\n",
    "    sl2 = rad(sl2)\n",
    "    arg = sin(beta2) * sin(sl2) / sin(beta1)\n",
    "    if arg < 0 or arg > 1:  # not possible\n",
    "        return np.nan\n",
    "    else:\n",
    "        sl1 = arcsin(arg)\n",
    "        return deg(sl1)\n",
    "\n",
    "\n",
    "def proj(beta, sl):\n",
    "    beta = rad(beta)\n",
    "    sl = rad(sl)\n",
    "    proj = arctan(tan(beta) * cos(beta))\n",
    "    return deg(proj)\n",
    "\n",
    "\n",
    "def tilt(beta1, sl1, beta2, sl2):\n",
    "    if np.isnan(sl1):\n",
    "        return np.nan\n",
    "    else:\n",
    "        return proj(beta2, sl2) - proj(beta1, sl1)"
   ]
  },
  {
   "attachments": {},
   "cell_type": "markdown",
   "metadata": {},
   "source": [
    "Read samples.csv and centers.csv and extract point IDs for each."
   ]
  },
  {
   "cell_type": "code",
   "execution_count": 48,
   "metadata": {},
   "outputs": [],
   "source": [
    "# location to read .csv files\n",
    "map_path = \"../GEOL192-GIS/data/\"\n",
    "\n",
    "\n",
    "centers = pd.read_csv(f'{map_path}centers.csv').set_index('cID')\n",
    "samples = pd.read_csv(f'{map_path}samples.csv').set_index(['sID', 'FEATURE'])\n",
    "\n",
    "cIDs = tuple(centers.index)\n",
    "sIDs = tuple(index[0] for index in samples.index)"
   ]
  },
  {
   "attachments": {},
   "cell_type": "markdown",
   "metadata": {},
   "source": [
    "Define an object to organize, calculate, and plot map data for a single center point."
   ]
  },
  {
   "cell_type": "code",
   "execution_count": 337,
   "metadata": {},
   "outputs": [],
   "source": [
    "# TODO perhaps refactor so the two samples doesn't need to be copied, lambda functions can be called on rows of the original samples df. time it\n",
    "\n",
    "@dataclass\n",
    "class Center:\n",
    "    cID: int\n",
    "\n",
    "    def __post_init__(self):\n",
    "        self.data = samples.copy()\n",
    "\n",
    "        # this of course only works for unique self.cIDs\n",
    "        self.lat = centers.loc[self.cID, 'LAT']\n",
    "        self.lon = centers.loc[self.cID, 'LON']\n",
    "        self.calculate()\n",
    "\n",
    "    def plot(self, name: str = None):  # type: ignore\n",
    "        fig = plt.figure(figsize=(8, 5), dpi=600)\n",
    "\n",
    "        sns.scatterplot(data=self.data, x='DIST', y='TILT')\n",
    "\n",
    "        plt.title(f\"Tilt from Center {self.cID}\")\n",
    "        plt.xlabel(\"Distance (km)\")\n",
    "        plt.ylabel(\"Tilt (deg)\")\n",
    "\n",
    "        # save plot with name if passed as argument\n",
    "        if name is not None:\n",
    "            fig.savefig(\"plot.svg\")\n",
    "            renderPDF.drawToFile(svg2rlg(\"plot.svg\"), f\"figures/{name}.pdf\")\n",
    "            os.remove(\"plot.svg\")\n",
    "\n",
    "    def calculate(self):\n",
    "\n",
    "        self.data['DIST'] = self.data.apply(\n",
    "            lambda row: dist(\n",
    "                lat_sample=row['LAT'], lon_sample=row['LON'],\n",
    "                lat_center=self.lat, lon_center=self.lon\n",
    "            ),\n",
    "            axis=1\n",
    "        )\n",
    "\n",
    "        self.data['BEARING'] = self.data.apply(\n",
    "            lambda row: bearing(\n",
    "                lat_sample=row['LAT'], lon_sample=row['LON'],\n",
    "                lat_center=self.lat, lon_center=self.lon\n",
    "            ),\n",
    "            axis=1\n",
    "        )\n",
    "\n",
    "        self.data['BETA1'] = self.data.apply(\n",
    "            lambda row: beta(\n",
    "                az=row['AZ1'], bearing=row['BEARING']\n",
    "            ),\n",
    "            axis=1\n",
    "        )\n",
    "\n",
    "        self.data['BETA2'] = self.data.apply(\n",
    "            lambda row: beta(\n",
    "                az=row['AZ2'], bearing=row['BEARING']\n",
    "            ),\n",
    "            axis=1\n",
    "        )\n",
    "\n",
    "        self.data['SL1'] = self.data.apply(\n",
    "            lambda row: sl1(\n",
    "                beta1=row['BETA1'],\n",
    "                beta2=row['BETA2'], sl2=row['SL2']\n",
    "            ),\n",
    "            axis=1\n",
    "        )\n",
    "\n",
    "        self.data['TILT'] = self.data.apply(\n",
    "            lambda row: tilt(\n",
    "                beta1=row['BETA1'], sl1=row['SL1'],\n",
    "                beta2=row['BETA2'], sl2=row['SL2']\n",
    "            ),\n",
    "            axis=1\n",
    "        )"
   ]
  },
  {
   "attachments": {},
   "cell_type": "markdown",
   "metadata": {},
   "source": [
    "Make an object for each center. This should take about 30 seconds."
   ]
  },
  {
   "cell_type": "code",
   "execution_count": 50,
   "metadata": {},
   "outputs": [],
   "source": [
    "centers_calc = [Center(cID) for cID in cIDs]"
   ]
  },
  {
   "attachments": {},
   "cell_type": "markdown",
   "metadata": {},
   "source": [
    "Define an object for sample populations of interest and make a few."
   ]
  },
  {
   "cell_type": "code",
   "execution_count": 338,
   "metadata": {},
   "outputs": [],
   "source": [
    "@dataclass\n",
    "class Population:\n",
    "    feature: tuple = ('flow', 'channel')\n",
    "    name: str = ''\n",
    "    sIDs: tuple = sIDs  # type: ignore\n",
    "\n",
    "\n",
    "SE = (41, 193, 194, 195, 196, 197, 198, 202, 203, 430, 431, 432, 438, 439, 440, 441, 442, 443, 444, 445, 477, 478, 479, 480, 481, 490, 491, 492, 493, 524, 525, 526, 529, 530, 531, 532, 533, 534, 535, 536, 537, 538, 539, 540, 541, 542, 543, 544, 545, 546, 547, 548, 549)\n",
    "\n",
    "SE_SUB1 = (198, 438, 439, 440, 441, 442, 443, 444, 445, 490, 491, 492, 493)\n",
    "SE_SUB2 = (193, 194, 195, 196, 197, 477, 478, 479, 480, 481, 544, 545, 548, 549)\n",
    "\n",
    "SE_2 = (193, 194, 195)\n",
    "\n",
    "pops = [\n",
    "    # Population(),\n",
    "    # Population(('flow',)),\n",
    "    # Population(('channel',)),\n",
    "    # Population(name='SE', sIDs=SE),\n",
    "    # Population(name='SE_SUB1', sIDs=SE_SUB1),\n",
    "    # Population(name='SE_SUB2', sIDs=SE_SUB2),\n",
    "    Population(name='SE_2', sIDs=SE_2),\n",
    "]"
   ]
  },
  {
   "attachments": {},
   "cell_type": "markdown",
   "metadata": {},
   "source": [
    "Define criteria for evaluating how well a center point explains a sample population."
   ]
  },
  {
   "cell_type": "code",
   "execution_count": 387,
   "metadata": {},
   "outputs": [],
   "source": [
    "@dataclass\n",
    "class Criterion:\n",
    "    num: int\n",
    "    func: Callable\n",
    "    names: tuple\n",
    "\n",
    "\n",
    "def summit_score(df: pd.DataFrame):\n",
    "    '''low is good: features point away from center'''\n",
    "    return mean(np.abs(df['BETA1']))\n",
    "\n",
    "def mogi_tilt(r1, k, d):\n",
    "    # reduce length scale to prevent overflow\n",
    "    r1 /= 1000\n",
    "    k /= 1000_000_000\n",
    "    # d /= 1000\n",
    "    num = 3 * k * d * r1\n",
    "    denom = (d**2 + r1**2)**2.5 + k * (d**2 - 2*r1**2)\n",
    "    return np.degrees(np.arctan2(num, denom))\n",
    "\n",
    "def simple_mogi_tilt(r1, a, b):\n",
    "    return a * r1 * np.exp(-b * r1**2)\n",
    "\n",
    "TEST_K = 100_000_000\n",
    "\n",
    "def mogi_curve_fit(df: pd.DataFrame):\n",
    "    # initial guess for iterative solution tailored to tilt data\n",
    "    if np.mean(df['TILT']) < 0:\n",
    "        p0 = -TEST_K, 15_000\n",
    "    else:\n",
    "        p0 = TEST_K, 15_000\n",
    "    params, pcov = curve_fit(\n",
    "        f=mogi_tilt,\n",
    "        xdata=df['DIST'],\n",
    "        ydata=df['TILT'],\n",
    "        p0=p0\n",
    "    )\n",
    "    k, d = params\n",
    "    k_err, d_err = np.sqrt(np.diag(pcov))\n",
    "\n",
    "    pv = 16 * np.pi * k * SHEAR_MODULUS / 9\n",
    "    pv_err = 16 * np.pi * k_err * SHEAR_MODULUS / 9\n",
    "\n",
    "    rel_d_err = np.abs(d_err / d)\n",
    "    rel_pv_err = np.abs(pv_err / pv)\n",
    "    return pv, rel_pv_err, d, rel_d_err\n",
    "\n",
    "\n",
    "criteria = [\n",
    "    Criterion(1, summit_score, ('summit_score',)),\n",
    "    Criterion(4, mogi_curve_fit, ('pv', 'pv_err'))\n",
    "]"
   ]
  },
  {
   "cell_type": "code",
   "execution_count": 388,
   "metadata": {},
   "outputs": [
    {
     "data": {
      "text/plain": [
       "(1.340412865531645e+19, 23395013.874662127, 15000.0, 23371642.231049996)"
      ]
     },
     "execution_count": 388,
     "metadata": {},
     "output_type": "execute_result"
    }
   ],
   "source": [
    "# test_center = centers_calc[cID].data.loc[(pops[0].sIDs, pops[0].feature), :][centers_calc[cID].data['TILT'].notnull()]\n",
    "test_center = pd.DataFrame({'DIST': 100 * np.arange(100)})\n",
    "\n",
    "\n",
    "test_center['TILT'] = test_center.apply(\n",
    "    lambda row: mogi_tilt(row['DIST'], 3_000_000_000, 15_000), axis=1\n",
    ")\n",
    "\n",
    "mogi_curve_fit(test_center)"
   ]
  },
  {
   "attachments": {},
   "cell_type": "markdown",
   "metadata": {},
   "source": [
    "Evaluate each center using each combination of criterion and sample population. This will take a few minutes."
   ]
  },
  {
   "cell_type": "code",
   "execution_count": null,
   "metadata": {},
   "outputs": [],
   "source": [
    "def evaluate(center: Center, pop: Population, crit: Criterion):\n",
    "    return crit.func(center.data.loc[(pop.sIDs, pop.feature), :][center.data['TILT'].notnull()])\n",
    "\n",
    "\n",
    "scores = {}\n",
    "\n",
    "for center in centers_calc:\n",
    "    center_scores = []\n",
    "    for pop in pops:\n",
    "        for crit in criteria:\n",
    "            try:\n",
    "                score = evaluate(center, pop, crit)\n",
    "                if type(score) == tuple:\n",
    "                    for val in score:\n",
    "                        center_scores.append(val)\n",
    "                else:\n",
    "                    center_scores.append(score)\n",
    "            except:\n",
    "                for i in range(crit.num):\n",
    "                    center_scores.append(np.nan)\n",
    "    scores[center.cID] = center_scores"
   ]
  },
  {
   "attachments": {},
   "cell_type": "markdown",
   "metadata": {},
   "source": [
    "Append evaluated scores and export for importing back into GIS."
   ]
  },
  {
   "cell_type": "code",
   "execution_count": 102,
   "metadata": {},
   "outputs": [],
   "source": [
    "score_names = []\n",
    "\n",
    "for pop in pops:\n",
    "    for crit in criteria:\n",
    "        for name in crit.names:\n",
    "            fieldname = f'{pop.feature}_{pop.name}_{name}'\n",
    "            fieldname = fieldname.replace(\"__\", \"_\")  # cleanup string\n",
    "            fieldname = fieldname.replace(\"(\", \"\")\n",
    "            fieldname = fieldname.replace(\")\", \"\")\n",
    "            fieldname = fieldname.replace(\",\", \"\")\n",
    "            fieldname = fieldname.replace(\"'\", \"\")\n",
    "            fieldname = fieldname.replace(\"flow channel_\", \"\")\n",
    "            score_names.append(fieldname)\n",
    "\n",
    "center_scores = pd.DataFrame(scores).transpose().set_axis(score_names, axis=1)\n",
    "\n",
    "centers_eval = pd.concat((centers, center_scores), axis=1)\n",
    "\n",
    "# easy to concat multiple times; this removes any duplicate columns\n",
    "centers_eval = centers_eval.loc[:, ~\n",
    "                                centers_eval.columns.duplicated()]  # type: ignore\n",
    "\n",
    "centers_eval.to_csv('centers_eval.csv')"
   ]
  },
  {
   "cell_type": "code",
   "execution_count": null,
   "metadata": {},
   "outputs": [],
   "source": [
    "sns.scatterplot(data=centers_eval,x='LON',y='LAT',c=centers_eval['mogi_pv'])"
   ]
  },
  {
   "attachments": {},
   "cell_type": "markdown",
   "metadata": {},
   "source": [
    "## Numerical Model Data\n",
    "\n",
    "Read initial positions and displacement vectors (radial and vertical components) of mesh nodes."
   ]
  },
  {
   "cell_type": "code",
   "execution_count": null,
   "metadata": {},
   "outputs": [],
   "source": [
    "model_path = \"../GEOL192-Model/data/\"\n",
    "\n",
    "topo = np.genfromtxt(f'{model_path}z1.csv', delimiter=\",\")\n",
    "\n",
    "\n",
    "def model_pos1_from_csv(name: str):\n",
    "    r = np.genfromtxt(model_path + \"r_\" + name, delimiter=\",\")[:, 0]\n",
    "    z = np.interp(r, *topo.T, right=0)\n",
    "    return np.array([r, z]).T\n",
    "\n",
    "\n",
    "def model_disp_from_csv(name: str):\n",
    "    r = np.genfromtxt(f'{model_path}r_{name}', delimiter=\",\")[:, 1]\n",
    "    z = np.genfromtxt(f'{model_path}z_{name}', delimiter=\",\")[:, 1]\n",
    "    return np.array([r, z]).T"
   ]
  },
  {
   "attachments": {},
   "cell_type": "markdown",
   "metadata": {},
   "source": [
    "Define analytical solution (elastic half-space inflated by spherical reservoir) for comparison."
   ]
  },
  {
   "cell_type": "code",
   "execution_count": null,
   "metadata": {},
   "outputs": [],
   "source": [
    "@dataclass\n",
    "class MogiModel:\n",
    "    dP: float\n",
    "    radius: float\n",
    "    DtC: float\n",
    "    r1: np.array  # type: ignore\n",
    "\n",
    "    def disp(self) -> np.array:  # type: ignore\n",
    "        common = 3 * self.radius**3 * self.dP / \\\n",
    "            (4 * SHEAR_MODULUS * (self.DtC**2 + self.r1**2)**1.5)\n",
    "        rdisp = common * self.r1\n",
    "        zdisp = common * self.DtC\n",
    "        return np.array(rdisp, zdisp)\n",
    "\n",
    "    def tilt(self) -> np.array:  # type: ignore\n",
    "        a = 3 * self.radius**3 * self.dP / (4 * SHEAR_MODULUS)\n",
    "        num = 3 * a * self.DtC * self.r1\n",
    "        denom = (self.DtC**2 + self.r1**2)**2.5 + \\\n",
    "            a * self.DtC**2 - 2 * a * self.r1**2\n",
    "        return deg(arctan2(num, denom))"
   ]
  },
  {
   "attachments": {},
   "cell_type": "markdown",
   "metadata": {},
   "source": [
    "Define objects for displaced nodes and surface elements (the latter defined by a consecutive pair of the former). Tilt calculation in the element class."
   ]
  },
  {
   "cell_type": "code",
   "execution_count": null,
   "metadata": {},
   "outputs": [],
   "source": [
    "@dataclass\n",
    "class Node:\n",
    "    pos1: Tuple[float, float]\n",
    "    disp: Tuple[float, float]\n",
    "\n",
    "    def __post_init__(self):\n",
    "        self.pos2 = self.pos1 + self.disp\n",
    "\n",
    "\n",
    "@dataclass\n",
    "class Element:\n",
    "    proximal: Node  # (A in text)\n",
    "    distal: Node  # (B in text)\n",
    "\n",
    "    def __post_init__(self):\n",
    "        # relative dimensions [r, z] of initial and displaced segments\n",
    "        self.shape1 = self.distal.pos1 - self.proximal.pos1  # type: ignore\n",
    "        self.shape2 = self.distal.pos2 - self.proximal.pos2  # type: ignore\n",
    "\n",
    "        # mean position of initial and displaced segments\n",
    "        self.pos1 = (self.distal.pos1 + self.proximal.pos1) / 2  # type: ignore\n",
    "        self.pos2 = (self.distal.pos2 + self.proximal.pos2) / 2  # type: ignore\n",
    "\n",
    "        # radial distances for plotting\n",
    "        self.r1_km = self.pos1[0] / 1000\n",
    "        self.r2_km = self.pos2[0] / 1000\n",
    "\n",
    "        # initial and displaced slopes (positive downward from center)\n",
    "        # index [1] is z component; [0] is r component\n",
    "        self.slope1 = deg(arctan2(-self.shape1[1], self.shape1[0]))\n",
    "        self.slope2 = deg(arctan2(-self.shape2[1], self.shape2[0]))\n",
    "\n",
    "        self.tilt = self.slope2 - self.slope1"
   ]
  },
  {
   "attachments": {},
   "cell_type": "markdown",
   "metadata": {},
   "source": [
    "Define model class with parameter combination (geometry, overpressure). It reads .csv files, builds nodes & elements, etc."
   ]
  },
  {
   "cell_type": "code",
   "execution_count": null,
   "metadata": {},
   "outputs": [],
   "source": [
    "class Model:\n",
    "    def __init__(self, params: dict):\n",
    "\n",
    "        self.params = params\n",
    "\n",
    "        self.dP = params['pmult'] * params['DtT'] * ROCK_DENSITY * MARS_GRAVITY\n",
    "\n",
    "        filename = f\"DtT_{params['DtT']}_resr_{params['resr']}_pmult_{params['pmult']}_gmult_{int(params['grav'])}_zmult_{int(params['topo'])}_resaspect_{params['aspect']}.csv\"\n",
    "\n",
    "        # read initial positions and displacements\n",
    "        self.pos1 = model_pos1_from_csv(filename)\n",
    "        self.disp = model_disp_from_csv(filename)\n",
    "\n",
    "        # subtract out gravitational component (with no overpressure)\n",
    "        if params['grav']:\n",
    "            filename_p0 = filename.replace(\n",
    "                f\"pmult_{params['pmult']}\", \"pmult_0\")\n",
    "            self.disp -= model_disp_from_csv(filename_p0)\n",
    "\n",
    "        # make z1 flat for flat model\n",
    "        if not params['topo']:\n",
    "            self.pos1[1] = np.zeros(len(self.pos1[1]))\n",
    "\n",
    "        # build nodes from pos1 and disp if pos1 within defined length\n",
    "        self.num_nodes = next(i for i, val in enumerate(self.pos1)\n",
    "                              if val[0] > PLOT_WIDTH)\n",
    "\n",
    "        self.nodes = [Node(self.pos1[i], self.disp[i])\n",
    "                      for i in range(self.num_nodes)]\n",
    "\n",
    "        # build elements from consecutive node pairs\n",
    "        self.node_pairs = zip(self.nodes[:-1], self.nodes[1:])\n",
    "        self.elements = [Element(*pair) for pair in self.node_pairs]\n",
    "\n",
    "        # put element attributes into dict of lists\n",
    "        self.attributes = pd.DataFrame(\n",
    "            [vars(element) for element in self.elements]).to_dict(\"list\")\n",
    "\n",
    "        # include analytical comparison if spherical assumption is met (topography is less important but technically violates assumptions)\n",
    "        if params['aspect'] == 1:\n",
    "            self.mogi_tilt = MogiModel(\n",
    "                dP=self.dP,\n",
    "                radius=params['resr'],\n",
    "                DtC=params['DtT'] + params['resr'],\n",
    "                r1=self.attributes['r1_km']).tilt()"
   ]
  },
  {
   "attachments": {},
   "cell_type": "markdown",
   "metadata": {},
   "source": [
    "Define parametric sweep class to mirror COMSOL iterative modelling. It makes a Model class out of each geometry and defines a plot method which displays constant and varied parameters within the sweep."
   ]
  },
  {
   "cell_type": "code",
   "execution_count": null,
   "metadata": {},
   "outputs": [],
   "source": [
    "# parameter sweep in SI units (to match csv output from COMSOL)\n",
    "class ParamSweep:\n",
    "    def __init__(self, params: dict):\n",
    "\n",
    "        # define constant parameters for labelling once in title\n",
    "        self.constants = {key: val[0]\n",
    "                          for key, val in params.items() if len(val) == 1}\n",
    "\n",
    "        # define variable parameters for labelling individually\n",
    "        self.variables = [key for key, val in params.items() if len(val) > 1]\n",
    "\n",
    "        self.models = [Model(dict(zip(params, item)))\n",
    "                       for item in itertools.product(*params.values())]\n",
    "\n",
    "    def plot(self, name: str = None):  # type: ignore\n",
    "        fig = plt.figure(figsize=(8, 5), dpi=600)\n",
    "\n",
    "        for model in self.models:\n",
    "            label = '{}'.format({param: model.params[param] for param in self.variables})\n",
    "            label = label.replace(\"{\", \"\")\n",
    "            label = label.replace(\"}\", \"\")\n",
    "            label = label.replace(\"'\", \"\")\n",
    "            sns.lineplot(data=model.attributes, y=\"tilt\", x=\"r2_km\", label=label)\n",
    "\n",
    "        title = f'{self.constants}'\n",
    "        title = title.replace(\"{\", \"\")\n",
    "        title = title.replace(\"}\", \"\")\n",
    "        title = title.replace(\"'\", \"\")\n",
    "        plt.title(f\"Radial Tilt: {title}\")\n",
    "        plt.xlabel(\"Distance (km)\")\n",
    "        plt.ylabel(\"Tilt (deg)\")\n",
    "        plt.legend(loc=\"upper right\")\n",
    "\n",
    "        # save plot with name if passed as argument\n",
    "        if name is not None:\n",
    "            fig.savefig(\"plot.svg\")\n",
    "            renderPDF.drawToFile(svg2rlg(\"plot.svg\"), f\"figures/{name}.pdf\")\n",
    "            os.remove(\"plot.svg\")\n",
    "\n",
    "\n",
    "test_sweep = ParamSweep({\n",
    "    \"DtT\": [10_000, 12_000],  # 10_000\n",
    "    \"resr\": [30_000],\n",
    "    \"aspect\": [.5],\n",
    "    \"pmult\": [0.6],\n",
    "    \"grav\": [False],  # 0, 1\n",
    "    \"topo\": [True]  # 0, 1\n",
    "})\n",
    "\n",
    "full_sweep = ParamSweep({\n",
    "    \"DtT\": [14_000],  # 10_000\n",
    "    \"resr\": [30_000],\n",
    "    \"aspect\": [.5],\n",
    "    \"pmult\": [0.2, 0.6],\n",
    "    \"grav\": [False],\n",
    "    \"topo\": [True]\n",
    "})"
   ]
  },
  {
   "cell_type": "markdown",
   "metadata": {},
   "source": [
    "# Plotting"
   ]
  },
  {
   "cell_type": "code",
   "execution_count": null,
   "metadata": {},
   "outputs": [],
   "source": [
    "test_sweep.plot()\n",
    "centers_calc[1].plot()"
   ]
  },
  {
   "attachments": {},
   "cell_type": "markdown",
   "metadata": {},
   "source": [
    "Define a function for plotting map and model data together."
   ]
  },
  {
   "cell_type": "code",
   "execution_count": null,
   "metadata": {},
   "outputs": [],
   "source": [
    "def combined_plot(sweep: ParamSweep, centers: list[Center], name: str = None): # type: ignore\n",
    "    fig = plt.figure(figsize=(8, 5), dpi=600)\n",
    "\n",
    "    for model in sweep.models:\n",
    "        label = '{}'.format({param: model.params[param] for param in sweep.variables})\n",
    "        label = label.replace(\"{\", \"\")\n",
    "        label = label.replace(\"}\", \"\")\n",
    "        label = label.replace(\"'\", \"\")\n",
    "        sns.lineplot(data=model.attributes, y=\"tilt\", x=\"r2_km\", label=label)\n",
    "\n",
    "    for center in centers:\n",
    "        sns.scatterplot(data=center.data, x='DIST', y='TILT', label=center.cID)\n",
    "\n",
    "    model_title = f'{sweep.constants}'\n",
    "    model_title = model_title.replace(\"{\", \"\")\n",
    "    model_title = model_title.replace(\"}\", \"\")\n",
    "    model_title = model_title.replace(\"'\", \"\")\n",
    "    plt.title(f\"Radial Tilt: {model_title}\")\n",
    "\n",
    "    plt.title(f\"Tilt for Model Parameters: {model_title}\")\n",
    "    plt.xlabel(\"Distance (km)\")\n",
    "    plt.ylabel(\"Tilt (deg)\")\n",
    "    plt.legend()\n",
    "\n",
    "    # save plot with name if passed as argument\n",
    "    if name is not None:\n",
    "        fig.savefig(\"plot.svg\")\n",
    "        renderPDF.drawToFile(svg2rlg(\"plot.svg\"), f\"figures/{name}.pdf\")\n",
    "        os.remove(\"plot.svg\")\n",
    "\n",
    "combined_plot(test_sweep, [centers_calc[0]])"
   ]
  },
  {
   "cell_type": "code",
   "execution_count": null,
   "metadata": {},
   "outputs": [],
   "source": [
    "params, cov = curve_fit(mogi_tilt, centers_calc[0].data['DIST'], centers_calc[0].data['TILT'])\n",
    "1/params[0]"
   ]
  },
  {
   "cell_type": "code",
   "execution_count": null,
   "metadata": {},
   "outputs": [],
   "source": []
  }
 ],
 "metadata": {
  "kernelspec": {
   "display_name": "Python 3 (ipykernel)",
   "language": "python",
   "name": "python3"
  },
  "language_info": {
   "codemirror_mode": {
    "name": "ipython",
    "version": 3
   },
   "file_extension": ".py",
   "mimetype": "text/x-python",
   "name": "python",
   "nbconvert_exporter": "python",
   "pygments_lexer": "ipython3",
   "version": "3.10.9"
  },
  "vscode": {
   "interpreter": {
    "hash": "38cca0c38332a56087b24af0bc80247f4fced29cb4f7f437d91dc159adec9c4e"
   }
  }
 },
 "nbformat": 4,
 "nbformat_minor": 2
}
