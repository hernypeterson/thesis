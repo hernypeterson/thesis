{
 "cells": [
  {
   "attachments": {},
   "cell_type": "markdown",
   "metadata": {},
   "source": [
    "# Jupyter Interactive Environment"
   ]
  },
  {
   "cell_type": "code",
   "execution_count": null,
   "metadata": {},
   "outputs": [],
   "source": [
    "# custom module\n",
    "import topodisc as td\n",
    "\n",
    "import numpy as np\n",
    "import pandas as pd"
   ]
  },
  {
   "attachments": {},
   "cell_type": "markdown",
   "metadata": {},
   "source": [
    "## Map Data"
   ]
  },
  {
   "cell_type": "code",
   "execution_count": null,
   "metadata": {},
   "outputs": [],
   "source": [
    "# on my machine\n",
    "map_path = \"../data/map/\"\n",
    "\n",
    "centers = pd.read_csv(f'{map_path}centers.csv').set_index('cID')\n",
    "samples = pd.read_csv(f'{map_path}samples.csv').set_index('sID')\n",
    "\n",
    "samples['DISC'] = samples.apply(\n",
    "    lambda row: ((row['AZ2'] - row['AZ1'] + 180) % 360) - 180,\n",
    "    axis=1\n",
    ")\n",
    "\n",
    "cIDs = centers.index.tolist()\n",
    "sIDs = samples.index.tolist()\n",
    "\n",
    "POP_A_sIDs = [\n",
    "    198, 438, 439, 440, 441, 442, 443, 444, 445, 490, 491, 492, 493\n",
    "]\n",
    "\n",
    "POP_B_sIDs = [\n",
    "    193, 194, 195, 196, 197, 477, 478, 479, 480, 481, 544, 545, 548, 549\n",
    "]\n",
    "\n",
    "POP_C_sIDs = [\n",
    "    529, 530, 531, 532, 533, 537, 538, 539, 540, 541, 542, 543\n",
    "]\n",
    "\n",
    "POP_ABC_sIDs = POP_A_sIDs + POP_B_sIDs + POP_C_sIDs\n",
    "\n",
    "pop_all = td.Population(name='all', sIDs=sIDs)\n",
    "pop_abc = td.Population(name='ABC', sIDs=POP_ABC_sIDs)"
   ]
  },
  {
   "attachments": {},
   "cell_type": "markdown",
   "metadata": {},
   "source": [
    "Calculate tilt (etc.) for each sample, for each center."
   ]
  },
  {
   "cell_type": "code",
   "execution_count": null,
   "metadata": {},
   "outputs": [],
   "source": [
    "paleo_azimuth_uncertainty = 0\n",
    "\n",
    "centers_calc = {\n",
    "    cID: td.make_center(cID, centers, samples, paleo_azimuth_uncertainty)\n",
    "    for cID in cIDs\n",
    "}"
   ]
  },
  {
   "attachments": {},
   "cell_type": "markdown",
   "metadata": {},
   "source": [
    "Define criteria and perform evaluation. This takes less than two minutes on my machine."
   ]
  },
  {
   "cell_type": "code",
   "execution_count": null,
   "metadata": {},
   "outputs": [],
   "source": [
    "min_offset = 7\n",
    "\n",
    "criteria = [\n",
    "    td.Criterion(td.subset_sizes(min_offset), pop_abc),\n",
    "    td.Criterion(td.inflation_score(min_offset), pop_abc),\n",
    "    td.Criterion(td.subset_sizes(min_offset), pop_all),\n",
    "    td.Criterion(td.inflation_score(min_offset), pop_all),\n",
    "]\n",
    "\n",
    "scores = {}\n",
    "score_names = []\n",
    "\n",
    "for best_cID, center in centers_calc.items():\n",
    "    scores_for_this_center = []\n",
    "    for crit in criteria:\n",
    "        scores_for_this_criterion = td.evaluate_center(center, crit)\n",
    "        for key, val in scores_for_this_criterion.items():\n",
    "            scores_for_this_center.append(val)\n",
    "            full_score_name = f'{crit.pop.name}_{key}'\n",
    "            if full_score_name not in score_names:\n",
    "                score_names.append(full_score_name)\n",
    "    scores[best_cID] = scores_for_this_center\n",
    "\n",
    "centers_eval = pd.DataFrame(scores).transpose().set_axis(score_names, axis=1)\n",
    "centers_eval_no_infs = centers_eval.replace([np.inf, -np.inf], np.nan)"
   ]
  },
  {
   "attachments": {},
   "cell_type": "markdown",
   "metadata": {},
   "source": [
    "Write evaluation to disk."
   ]
  },
  {
   "cell_type": "code",
   "execution_count": null,
   "metadata": {},
   "outputs": [],
   "source": [
    "centers_eval_no_infs.to_csv(\n",
    "    f'{map_path}centers_eval.csv',\n",
    "    index_label='cID'\n",
    ")"
   ]
  },
  {
   "attachments": {},
   "cell_type": "markdown",
   "metadata": {},
   "source": [
    "## Model data"
   ]
  },
  {
   "attachments": {},
   "cell_type": "markdown",
   "metadata": {},
   "source": [
    "A non-exhaustive set of parametric sweeps previously implemented in COMSOL. I arrived at the combinations shown here after several iterations of searching through increasingly fine resolution sweeps. "
   ]
  },
  {
   "cell_type": "code",
   "execution_count": null,
   "metadata": {},
   "outputs": [],
   "source": [
    "shallow_params = {\n",
    "    \"depth\": [6000, 7000, 8000, 9000, 10_000],\n",
    "    \"radius\": [25_000, 30_000, 35_000],\n",
    "    \"aspect\": [0.04, 0.06, 0.08, 0.1, 0.12],\n",
    "    \"pmult\": [-.2, -.4, -.6, -.8],\n",
    "    \"grav\": [False],\n",
    "    \"topo\": [True],\n",
    "}\n",
    "\n",
    "medium_params = {\n",
    "    \"depth\": [10_000, 12_000, 14_000, 16_000, 18_000],\n",
    "    \"radius\": [35_000, 40_000, 45_000],\n",
    "    \"aspect\": [0.04, 0.06, 0.08, 0.1, 0.12],\n",
    "    \"pmult\": [-.2, -.4, -.6, -.8],\n",
    "    \"grav\": [False],\n",
    "    \"topo\": [True],\n",
    "}\n",
    "\n",
    "deep_params = {\n",
    "    \"depth\": [20_000, 21_000, 22_000, 23_000],\n",
    "    \"radius\": [44_000, 45_000, 46_000, 47_000, 48_000, 49_000, 50_000],\n",
    "    \"aspect\": [0.04, 0.06, 0.08, 0.1, 0.12],\n",
    "    \"pmult\": [-1],\n",
    "    \"grav\": [False],\n",
    "    \"topo\": [True],\n",
    "}"
   ]
  },
  {
   "attachments": {},
   "cell_type": "markdown",
   "metadata": {},
   "source": [
    "Calculate numerical tilt solution for every combination (from numerical displacement results)."
   ]
  },
  {
   "cell_type": "code",
   "execution_count": null,
   "metadata": {},
   "outputs": [],
   "source": [
    "# on my machine\n",
    "model_path = \"../data/model/\"\n",
    "\n",
    "# paleo-edifice spline data\n",
    "model_topo = np.genfromtxt(f'{model_path}z1.csv', delimiter=\",\").T\n",
    "\n",
    "shallow_sweep = td.ParamSweep(\n",
    "    td.unpack_param_combinations(shallow_params), model_topo\n",
    ")\n",
    "\n",
    "medium_sweep = td.ParamSweep(\n",
    "    td.unpack_param_combinations(medium_params), model_topo\n",
    ")\n",
    "\n",
    "deep_sweep = td.ParamSweep(\n",
    "    td.unpack_param_combinations(deep_params),\n",
    "    model_topo\n",
    ")"
   ]
  },
  {
   "attachments": {},
   "cell_type": "markdown",
   "metadata": {},
   "source": [
    "For each parametric sweep, sort the associated numerical solutions by RMSE fit to the tilt-distance dataset associated with the best inflation center candidate."
   ]
  },
  {
   "cell_type": "code",
   "execution_count": null,
   "metadata": {},
   "outputs": [],
   "source": [
    "best_cID = 486\n",
    "\n",
    "shallow_sweep.sort_models_by_rmse(\n",
    "    center=centers_calc[best_cID],\n",
    "    sIDs=pop_abc.sIDs\n",
    "    )\n",
    "\n",
    "medium_sweep.sort_models_by_rmse(\n",
    "    center=centers_calc[best_cID],\n",
    "    sIDs=pop_abc.sIDs\n",
    "    )\n",
    "\n",
    "deep_sweep.sort_models_by_rmse(\n",
    "    center=centers_calc[best_cID],\n",
    "    sIDs=pop_abc.sIDs\n",
    "    )"
   ]
  },
  {
   "attachments": {},
   "cell_type": "markdown",
   "metadata": {},
   "source": [
    "Print the best fit from each sweep, which is first after being sorted by RMSE."
   ]
  },
  {
   "cell_type": "code",
   "execution_count": null,
   "metadata": {},
   "outputs": [],
   "source": [
    "print(shallow_sweep.models[0])\n",
    "print(medium_sweep.models[0])\n",
    "print(deep_sweep.models[0])"
   ]
  }
 ],
 "metadata": {
  "kernelspec": {
   "display_name": "base",
   "language": "python",
   "name": "python3"
  },
  "language_info": {
   "codemirror_mode": {
    "name": "ipython",
    "version": 3
   },
   "file_extension": ".py",
   "mimetype": "text/x-python",
   "name": "python",
   "nbconvert_exporter": "python",
   "pygments_lexer": "ipython3",
   "version": "3.10.9"
  },
  "orig_nbformat": 4
 },
 "nbformat": 4,
 "nbformat_minor": 2
}
