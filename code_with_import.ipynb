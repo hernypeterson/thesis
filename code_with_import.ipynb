{
 "cells": [
  {
   "cell_type": "code",
   "execution_count": 1,
   "metadata": {},
   "outputs": [],
   "source": [
    "import topodisc as td\n",
    "\n",
    "import numpy as np\n",
    "from numpy import radians as rad\n",
    "from numpy import degrees as deg\n",
    "from numpy import sin, cos, tan, arcsin, arccos, arctan, arctan2, mean\n",
    "\n",
    "import pandas as pd\n",
    "from dataclasses import dataclass\n",
    "import itertools\n",
    "\n",
    "import warnings\n",
    "from scipy.optimize import curve_fit, OptimizeWarning\n",
    "from sklearn.metrics import mean_squared_error\n",
    "\n",
    "warnings.simplefilter(\"error\", OptimizeWarning)\n",
    "\n",
    "from typing import Callable, Tuple\n",
    "from collections.abc import Iterable\n",
    "\n",
    "import matplotlib.pyplot as plt\n",
    "from matplotlib.backends.backend_pdf import PdfPages\n",
    "import seaborn as sns"
   ]
  },
  {
   "cell_type": "code",
   "execution_count": 4,
   "metadata": {},
   "outputs": [],
   "source": [
    "SHEAR_MODULUS = 2.4e10  # Pa\n",
    "ROCK_DENSITY = 2700  # kg / m^3\n",
    "MAGMA_DENSITY = 2700  # kg / m^3\n",
    "MARS_GRAVITY = 3.72  # m / s^2\n",
    "MARS_EQ_RADIUS = 3_396_200  # m\n",
    "\n",
    "AZ1_UNCERTAINTY = 7  # degrees\n",
    "\n",
    "# for plotting numerical\n",
    "PLOT_WIDTH = 200_000\n",
    "\n",
    "# scale length dimensions to prevent overflow\n",
    "LENGTH_SCALE_MULT = 1_000_000\n",
    "\n",
    "# for cutoff envelope and first guess in non-linear regression\n",
    "MAX_EPV = 7e22  # J\n",
    "TEST_D = 20_000  # m\n",
    "MAX_ITERATIONS = 80\n",
    "\n",
    "# parameter conversion factor\n",
    "EPV_OVER_K = 16 * np.pi * SHEAR_MODULUS / 9"
   ]
  },
  {
   "cell_type": "code",
   "execution_count": 5,
   "metadata": {},
   "outputs": [],
   "source": [
    "map_path = \"../GEOL192-GIS/data/\"\n",
    "\n",
    "centers = pd.read_csv(f'{map_path}centers.csv').set_index('cID')\n",
    "samples = pd.read_csv(f'{map_path}samples.csv').set_index('sID')\n",
    "\n",
    "cIDs = centers.index.tolist()\n",
    "sIDs = samples.index.tolist()\n",
    "\n",
    "feature_sIDs = {\n",
    "    'flow': samples.index[samples['FEATURE'] == 'flow'].tolist(),\n",
    "    'channel': samples.index[samples['FEATURE'] == 'channel'].tolist(),\n",
    "}"
   ]
  },
  {
   "cell_type": "code",
   "execution_count": 7,
   "metadata": {},
   "outputs": [],
   "source": [
    "centers_calc = {\n",
    "    cID: td.make_center(cID, centers, samples) for cID in cIDs\n",
    "}"
   ]
  },
  {
   "cell_type": "code",
   "execution_count": 8,
   "metadata": {},
   "outputs": [],
   "source": [
    "POP_A_sIDs = [\n",
    "    198, 438, 439, 440, 441, 442, 443, 444, 445, 490, 491, 492, 493\n",
    "]\n",
    "\n",
    "POP_B_sIDs = [\n",
    "    193, 194, 195, 196, 197, 477, 478, 479, 480, 481, 544, 545, 548, 549\n",
    "]\n",
    "\n",
    "POP_C_sIDs = [\n",
    "    529, 530, 531, 532, 533, 537, 538, 539, 540, 541, 542, 543\n",
    "]\n",
    "\n",
    "pop_all = td.Population(name='all', sIDs=sIDs)\n",
    "pop_flow = td.Population(name='flow', sIDs=feature_sIDs['flow'])\n",
    "pop_channel = td.Population(name='channel', sIDs=feature_sIDs['channel'])\n",
    "\n",
    "pop_a = td.Population(name='A', sIDs=POP_A_sIDs)\n",
    "pop_b = td.Population(name='B', sIDs=POP_B_sIDs)\n",
    "pop_c = td.Population(name='C', sIDs=POP_C_sIDs)"
   ]
  },
  {
   "cell_type": "code",
   "execution_count": 11,
   "metadata": {},
   "outputs": [],
   "source": [
    "criteria = [\n",
    "    td.Criterion(td.summit_score, pop_all),\n",
    "    td.Criterion(td.summit_score, pop_flow),\n",
    "    td.Criterion(td.summit_score, pop_channel),\n",
    "    td.Criterion(td.inflation_score, pop_a),\n",
    "    td.Criterion(td.inflation_score, pop_b),\n",
    "    td.Criterion(td.inflation_score, pop_c),\n",
    "]"
   ]
  },
  {
   "cell_type": "code",
   "execution_count": 14,
   "metadata": {},
   "outputs": [],
   "source": [
    "scores = {}\n",
    "score_names = []\n",
    "\n",
    "# note: will get score name out of order if any criteria throw errors, so those need to be handled in each evaluation function\n",
    "for cID in cIDs[:50]:\n",
    "\n",
    "    center = centers_calc[cID]\n",
    "    centers_eval = []\n",
    "\n",
    "    for crit in criteria:\n",
    "        center_crit_scores = td.evaluate_center(center, crit)\n",
    "\n",
    "        for key, val in center_crit_scores.items():\n",
    "            centers_eval.append(val)\n",
    "\n",
    "            full_score_name = f'{crit.pop.name}_{key}'\n",
    "\n",
    "            if full_score_name not in score_names:\n",
    "                score_names.append(full_score_name)\n",
    "                \n",
    "    scores[cID] = centers_eval"
   ]
  },
  {
   "cell_type": "code",
   "execution_count": 15,
   "metadata": {},
   "outputs": [],
   "source": [
    "centers_eval = pd.DataFrame(scores).transpose().set_axis(score_names, axis=1)\n",
    "\n",
    "\n",
    "centers_eval_no_infs = centers_eval.replace([np.inf, -np.inf], np.nan)\n",
    "\n",
    "centers_eval_no_infs.to_csv(\n",
    "    f'{map_path}centers_eval_first50_from_import.csv',\n",
    "    index_label='cID'\n",
    ")"
   ]
  },
  {
   "cell_type": "code",
   "execution_count": null,
   "metadata": {},
   "outputs": [],
   "source": []
  }
 ],
 "metadata": {
  "kernelspec": {
   "display_name": "base",
   "language": "python",
   "name": "python3"
  },
  "language_info": {
   "codemirror_mode": {
    "name": "ipython",
    "version": 3
   },
   "file_extension": ".py",
   "mimetype": "text/x-python",
   "name": "python",
   "nbconvert_exporter": "python",
   "pygments_lexer": "ipython3",
   "version": "3.10.9"
  },
  "orig_nbformat": 4
 },
 "nbformat": 4,
 "nbformat_minor": 2
}
